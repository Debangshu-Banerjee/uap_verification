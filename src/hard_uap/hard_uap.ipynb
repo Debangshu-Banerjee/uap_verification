{
 "cells": [
  {
   "cell_type": "code",
   "execution_count": 1,
   "metadata": {},
   "outputs": [],
   "source": [
    "import torch\n",
    "import torchvision\n",
    "from tqdm.notebook import tqdm\n",
    "import torch.nn.functional as F\n",
    "import numpy as np\n",
    "import random\n",
    "from attack_util import batch_pgd, pgd, fgsm\n",
    "from data_util import load_mnist, to_device\n",
    "from util import project_lp, scale_im, accuracy, asr, dsa, expand_first\n",
    "\n",
    "\n",
    "device = torch.device(\"cuda:1\" if torch.cuda.is_available() else \"cpu\")"
   ]
  },
  {
   "cell_type": "code",
   "execution_count": 20,
   "metadata": {},
   "outputs": [],
   "source": [
    "class MNet(torch.nn.Module):\n",
    "    def __init__(self):\n",
    "        super(MNet, self).__init__()\n",
    "        self.l1 = torch.nn.Linear(28*28, 256)\n",
    "        self.l2 = torch.nn.Linear(256, 64)\n",
    "        self.l3 = torch.nn.Linear(64, 10)\n",
    "    \n",
    "    def forward(self, x):\n",
    "        x = x.view(-1, 28*28)\n",
    "        out = torch.relu(self.l1(x))\n",
    "        out = torch.relu(self.l2(out))\n",
    "        return self.l3(out)"
   ]
  },
  {
   "cell_type": "code",
   "execution_count": 18,
   "metadata": {},
   "outputs": [],
   "source": [
    "train_loader, test_loader = load_mnist(64, 10, device)"
   ]
  },
  {
   "cell_type": "code",
   "execution_count": 21,
   "metadata": {},
   "outputs": [
    {
     "data": {
      "application/vnd.jupyter.widget-view+json": {
       "model_id": "2df86c51bf2347e99d1a04dacb456280",
       "version_major": 2,
       "version_minor": 0
      },
      "text/plain": [
       "  0%|          | 0/938 [00:00<?, ?it/s]"
      ]
     },
     "metadata": {},
     "output_type": "display_data"
    },
    {
     "data": {
      "application/vnd.jupyter.widget-view+json": {
       "model_id": "48afac65df154191b8cd7212343b8eec",
       "version_major": 2,
       "version_minor": 0
      },
      "text/plain": [
       "  0%|          | 0/938 [00:00<?, ?it/s]"
      ]
     },
     "metadata": {},
     "output_type": "display_data"
    }
   ],
   "source": [
    "# mdl = to_device(MNet(), device)\n",
    "# mdl.load_state_dict(torch.load('mnist_01.pth'))\n",
    "# mdl = mdl.eval()\n",
    "\n",
    "mdl = to_device(MNet(), device)\n",
    "crit = torch.nn.CrossEntropyLoss()\n",
    "optimizer = torch.optim.Adam(mdl.parameters(), lr=0.01) \n",
    "for epoch in range(2):\n",
    "    pbar = tqdm(train_loader)\n",
    "    for batch_id, (images, labels) in enumerate(pbar):\n",
    "        outputs = mdl(images)\n",
    "        loss = F.cross_entropy(outputs, labels)\n",
    "        optimizer.zero_grad()\n",
    "        loss.backward()\n",
    "        optimizer.step() \n",
    "        if batch_id == len(train_loader) - 1:\n",
    "            pbar.set_postfix({\"Test Accuracy\":dsa(test_loader, mdl)})"
   ]
  },
  {
   "cell_type": "code",
   "execution_count": 45,
   "metadata": {},
   "outputs": [],
   "source": [
    "def find_hard_uaps(xs, ys, mdl, adv_alg, xi, n = 10, device = device):\n",
    "  attack_dirs = []\n",
    "  for x, y in zip(xs, ys):\n",
    "    attack_dirs.append(adv_alg(, y, mdl, xi = xi, device = device))\n",
    "  cos_sim = torch.zeros_like((len(xs), len(xs)))\n",
    "  for i in range(len(xs)):\n",
    "    for j in range(i + 1, len(xs)):\n",
    "      cos_sim[i][j] = F.cosine_similarity(attack_dirs[i], attack_dirs[j])\n",
    "      cos_sim[j][i] = cos_sim[i][j]\n",
    "  idx = find_largest(cos_sim, n)\n",
    "  return xs[idx], ys[idx]\n",
    "\n",
    "def find_largest(mat, n):\n",
    "  return find_largest_greed(mat, n)\n",
    "\n",
    "def find_largest_greed(mat, n):\n",
    "  return torch.argmax(mat.sum(axis = 0))[:n]\n",
    "\n",
    "def find_largest_brute(mat, n):\n",
    "  best_idx = None\n",
    "  best_value = 0\n",
    "  for idx in perm(len(mat), n):\n",
    "    cur_sum = mat[idx, idx].sum()\n",
    "    if cur_sum > best_value:\n",
    "      best_value = cur_sum\n",
    "      best_idx = idx\n",
    "  return best_idx"
   ]
  },
  {
   "cell_type": "code",
   "execution_count": 46,
   "metadata": {},
   "outputs": [
    {
     "ename": "ValueError",
     "evalue": "Expected input batch_size (1) to match target batch_size (0).",
     "output_type": "error",
     "traceback": [
      "\u001b[0;31m---------------------------------------------------------------------------\u001b[0m",
      "\u001b[0;31mValueError\u001b[0m                                Traceback (most recent call last)",
      "Cell \u001b[0;32mIn[46], line 1\u001b[0m\n\u001b[0;32m----> 1\u001b[0m x_hard, y_hard \u001b[39m=\u001b[39m find_hard_uaps(x_test, y_test, mdl, pgd, \u001b[39m0.1\u001b[39;49m)\n",
      "Cell \u001b[0;32mIn[45], line 4\u001b[0m, in \u001b[0;36mfind_hard_uaps\u001b[0;34m(xs, ys, mdl, adv_alg, xi, n, device)\u001b[0m\n\u001b[1;32m      2\u001b[0m attack_dirs \u001b[39m=\u001b[39m []\n\u001b[1;32m      3\u001b[0m \u001b[39mfor\u001b[39;00m x, y \u001b[39min\u001b[39;00m \u001b[39mzip\u001b[39m(xs, ys):\n\u001b[0;32m----> 4\u001b[0m   attack_dirs\u001b[39m.\u001b[39mappend(adv_alg(x, y, mdl, xi \u001b[39m=\u001b[39;49m xi, device \u001b[39m=\u001b[39;49m device))\n\u001b[1;32m      5\u001b[0m cos_sim \u001b[39m=\u001b[39m torch\u001b[39m.\u001b[39mzeros_like((\u001b[39mlen\u001b[39m(xs), \u001b[39mlen\u001b[39m(xs)))\n\u001b[1;32m      6\u001b[0m \u001b[39mfor\u001b[39;00m i \u001b[39min\u001b[39;00m \u001b[39mrange\u001b[39m(\u001b[39mlen\u001b[39m(xs)):\n",
      "Cell \u001b[0;32mIn[29], line 3\u001b[0m, in \u001b[0;36mpgd\u001b[0;34m(x, y, k, norm, xi, step_size, epochs, random_restart, device)\u001b[0m\n\u001b[1;32m      1\u001b[0m \u001b[39mdef\u001b[39;00m \u001b[39mpgd\u001b[39m(x, y, k, norm \u001b[39m=\u001b[39m np\u001b[39m.\u001b[39minf, xi \u001b[39m=\u001b[39m \u001b[39m1e-1\u001b[39m, step_size \u001b[39m=\u001b[39m \u001b[39m1e-2\u001b[39m, epochs \u001b[39m=\u001b[39m \u001b[39m40\u001b[39m, random_restart \u001b[39m=\u001b[39m \u001b[39m4\u001b[39m, device \u001b[39m=\u001b[39m torch\u001b[39m.\u001b[39mdevice(\u001b[39m'\u001b[39m\u001b[39mcuda:0\u001b[39m\u001b[39m'\u001b[39m)):\n\u001b[1;32m      2\u001b[0m     batch_size \u001b[39m=\u001b[39m x\u001b[39m.\u001b[39mshape[\u001b[39m0\u001b[39m]\n\u001b[0;32m----> 3\u001b[0m     max_loss \u001b[39m=\u001b[39m F\u001b[39m.\u001b[39;49mcross_entropy(k(x), y)\n\u001b[1;32m      4\u001b[0m     max_X \u001b[39m=\u001b[39m torch\u001b[39m.\u001b[39mzeros_like(x)\n\u001b[1;32m      5\u001b[0m     random_delta \u001b[39m=\u001b[39m torch\u001b[39m.\u001b[39mrand(size \u001b[39m=\u001b[39m (batch_size \u001b[39m*\u001b[39m random_restart, \u001b[39m*\u001b[39mx\u001b[39m.\u001b[39mshape[\u001b[39m1\u001b[39m:]), device \u001b[39m=\u001b[39m device) \u001b[39m-\u001b[39m \u001b[39m0.5\u001b[39m\n",
      "File \u001b[0;32m/apps/conda/cmxu/envs/uapv/lib/python3.10/site-packages/torch/nn/functional.py:2996\u001b[0m, in \u001b[0;36mcross_entropy\u001b[0;34m(input, target, weight, size_average, ignore_index, reduce, reduction, label_smoothing)\u001b[0m\n\u001b[1;32m   2994\u001b[0m \u001b[39mif\u001b[39;00m size_average \u001b[39mis\u001b[39;00m \u001b[39mnot\u001b[39;00m \u001b[39mNone\u001b[39;00m \u001b[39mor\u001b[39;00m reduce \u001b[39mis\u001b[39;00m \u001b[39mnot\u001b[39;00m \u001b[39mNone\u001b[39;00m:\n\u001b[1;32m   2995\u001b[0m     reduction \u001b[39m=\u001b[39m _Reduction\u001b[39m.\u001b[39mlegacy_get_string(size_average, reduce)\n\u001b[0;32m-> 2996\u001b[0m \u001b[39mreturn\u001b[39;00m torch\u001b[39m.\u001b[39;49m_C\u001b[39m.\u001b[39;49m_nn\u001b[39m.\u001b[39;49mcross_entropy_loss(\u001b[39minput\u001b[39;49m, target, weight, _Reduction\u001b[39m.\u001b[39;49mget_enum(reduction), ignore_index, label_smoothing)\n",
      "\u001b[0;31mValueError\u001b[0m: Expected input batch_size (1) to match target batch_size (0)."
     ]
    }
   ],
   "source": [
    "x_hard, y_hard = find_hard_uaps(x_test, y_test, mdl, pgd, 0.1)"
   ]
  },
  {
   "cell_type": "code",
   "execution_count": 22,
   "metadata": {},
   "outputs": [],
   "source": [
    "x_test, y_test = next(iter(train_loader))\n",
    "#x_test = x_test.view(-1, 28*28)"
   ]
  },
  {
   "cell_type": "code",
   "execution_count": 41,
   "metadata": {},
   "outputs": [],
   "source": [
    "v = batch_pgd(x_test, y_test, mdl, device = device)"
   ]
  },
  {
   "cell_type": "code",
   "execution_count": 42,
   "metadata": {},
   "outputs": [
    {
     "data": {
      "text/plain": [
       "tensor(0.7812)"
      ]
     },
     "execution_count": 42,
     "metadata": {},
     "output_type": "execute_result"
    }
   ],
   "source": [
    "accuracy(mdl(x_test + v), y_test)"
   ]
  },
  {
   "cell_type": "code",
   "execution_count": 43,
   "metadata": {},
   "outputs": [
    {
     "data": {
      "text/plain": [
       "tensor(0.9375)"
      ]
     },
     "execution_count": 43,
     "metadata": {},
     "output_type": "execute_result"
    }
   ],
   "source": [
    "accuracy(mdl(x_test), y_test)"
   ]
  },
  {
   "cell_type": "code",
   "execution_count": null,
   "metadata": {},
   "outputs": [],
   "source": [
    "def local_uap(x, y, mdl, adv_alg, xi = 0.1, n = 10):\n",
    "  current_x = x\n",
    "  xs = []\n",
    "  for i in range(n):\n",
    "    xs.append(current_x)\n",
    "    current_x = x - adv_alg(x, y, mdl, xi)\n",
    "  return xs"
   ]
  }
 ],
 "metadata": {
  "kernelspec": {
   "display_name": "uapv",
   "language": "python",
   "name": "python3"
  },
  "language_info": {
   "codemirror_mode": {
    "name": "ipython",
    "version": 3
   },
   "file_extension": ".py",
   "mimetype": "text/x-python",
   "name": "python",
   "nbconvert_exporter": "python",
   "pygments_lexer": "ipython3",
   "version": "3.10.11"
  },
  "orig_nbformat": 4
 },
 "nbformat": 4,
 "nbformat_minor": 2
}
